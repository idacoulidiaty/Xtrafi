{
 "cells": [
  {
   "cell_type": "code",
   "execution_count": 2,
   "id": "56464a31",
   "metadata": {},
   "outputs": [
    {
     "name": "stderr",
     "output_type": "stream",
     "text": [
      "2025-06-23 09:09:31.291 WARNING streamlit.runtime.scriptrunner_utils.script_run_context: Thread 'MainThread': missing ScriptRunContext! This warning can be ignored when running in bare mode.\n",
      "2025-06-23 09:09:31.862 WARNING streamlit.runtime.scriptrunner_utils.script_run_context: Thread 'MainThread': missing ScriptRunContext! This warning can be ignored when running in bare mode.\n",
      "2025-06-23 09:09:31.957 WARNING streamlit.runtime.scriptrunner_utils.script_run_context: Thread 'MainThread': missing ScriptRunContext! This warning can be ignored when running in bare mode.\n",
      "2025-06-23 09:09:32.464 \n",
      "  \u001b[33m\u001b[1mWarning:\u001b[0m to view this Streamlit app on a browser, run it with the following\n",
      "  command:\n",
      "\n",
      "    streamlit run /home/ida/Documents/Xtrafi/Data_viz/dataviz_xtrafi/lib/python3.12/site-packages/ipykernel_launcher.py [ARGUMENTS]\n",
      "2025-06-23 09:09:32.465 Thread 'MainThread': missing ScriptRunContext! This warning can be ignored when running in bare mode.\n",
      "2025-06-23 09:09:32.466 Thread 'MainThread': missing ScriptRunContext! This warning can be ignored when running in bare mode.\n",
      "2025-06-23 09:09:32.467 Thread 'MainThread': missing ScriptRunContext! This warning can be ignored when running in bare mode.\n",
      "2025-06-23 09:09:32.468 Thread 'MainThread': missing ScriptRunContext! This warning can be ignored when running in bare mode.\n",
      "2025-06-23 09:09:32.470 Thread 'MainThread': missing ScriptRunContext! This warning can be ignored when running in bare mode.\n",
      "2025-06-23 09:09:32.471 Thread 'MainThread': missing ScriptRunContext! This warning can be ignored when running in bare mode.\n",
      "2025-06-23 09:09:32.474 Thread 'MainThread': missing ScriptRunContext! This warning can be ignored when running in bare mode.\n",
      "2025-06-23 09:09:32.476 Thread 'MainThread': missing ScriptRunContext! This warning can be ignored when running in bare mode.\n",
      "2025-06-23 09:09:32.477 Thread 'MainThread': missing ScriptRunContext! This warning can be ignored when running in bare mode.\n",
      "2025-06-23 09:09:32.478 Thread 'MainThread': missing ScriptRunContext! This warning can be ignored when running in bare mode.\n",
      "2025-06-23 09:09:32.482 Thread 'MainThread': missing ScriptRunContext! This warning can be ignored when running in bare mode.\n",
      "2025-06-23 09:09:32.482 Thread 'MainThread': missing ScriptRunContext! This warning can be ignored when running in bare mode.\n",
      "2025-06-23 09:09:32.484 Thread 'MainThread': missing ScriptRunContext! This warning can be ignored when running in bare mode.\n",
      "2025-06-23 09:09:32.485 Thread 'MainThread': missing ScriptRunContext! This warning can be ignored when running in bare mode.\n",
      "2025-06-23 09:09:32.486 Session state does not function when running a script without `streamlit run`\n",
      "2025-06-23 09:09:32.488 Thread 'MainThread': missing ScriptRunContext! This warning can be ignored when running in bare mode.\n",
      "2025-06-23 09:09:32.490 Thread 'MainThread': missing ScriptRunContext! This warning can be ignored when running in bare mode.\n",
      "2025-06-23 09:09:32.861 Thread 'MainThread': missing ScriptRunContext! This warning can be ignored when running in bare mode.\n",
      "2025-06-23 09:09:32.861 Thread 'MainThread': missing ScriptRunContext! This warning can be ignored when running in bare mode.\n"
     ]
    }
   ],
   "source": [
    "import streamlit as st\n",
    "import os\n",
    "import pandas as pd\n",
    "\n",
    "from config import WATCHED_FOLDER, LOGO_PATH\n",
    "from data_loader import (\n",
    "    get_latest_excel_file,\n",
    "    load_excel_data_dynamic_start,\n",
    "    get_date_generation_restitution\n",
    ")\n",
    "from components.sidebar import sidebar_file_selection\n",
    "from preprocessing import filter_and_rename_columns, compute_variations\n",
    "from components.tab_dataframes import afficher_onglet_1, afficher_onglet_2, afficher_onglet_3\n",
    "from components.tab_dashboards import afficher_tableau\n",
    "from utils.styles import style_kpi\n",
    "from components.export_excel import export_excel_with_figures\n",
    "\n",
    "# Logo\n",
    "st.image(LOGO_PATH, width=200)\n",
    "st.title(\"📊 Votre Dashboard\")\n",
    "\n",
    "# Import/choix fichier\n",
    "uploaded_file, selected_file = sidebar_file_selection()\n",
    "\n",
    "df1 = df2 = df3 = source = None\n",
    "file_path = None\n",
    "\n",
    "if uploaded_file:\n",
    "    file_path = uploaded_file\n",
    "elif selected_file:\n",
    "    file_path = os.path.join(WATCHED_FOLDER, selected_file)\n",
    "\n",
    "# Chargement des données\n",
    "if file_path:\n",
    "    try:\n",
    "        label, date_value = get_date_generation_restitution(file_path)\n",
    "        df1 = load_excel_data_dynamic_start(file_path)\n",
    "        df2 = pd.read_excel(file_path, sheet_name=\"Restit Brute (Total Répdts)\", engine=\"calamine\")\n",
    "        df3 = pd.read_excel(file_path, sheet_name=\"Restit Rapport (Total Répdts)\", engine=\"calamine\")\n",
    "        df3 = filter_and_rename_columns(df3)\n",
    "        df3 = compute_variations(df3)\n",
    "        source = f\"Fichier : {label} - {date_value}\"\n",
    "        st.success(source)\n",
    "    except Exception as e:\n",
    "        st.error(f\"Erreur de lecture : {e}\")\n"
   ]
  },
  {
   "cell_type": "code",
   "execution_count": 4,
   "id": "ea114fd6",
   "metadata": {},
   "outputs": [
    {
     "data": {
      "text/plain": [
       "Index(['Code\\nRAPPORT Ind.\\nVIRTUEL', 'Nom\\nRAPPORT Ind.\\nVIRTUEL',\n",
       "       'Code Reporting', 'Nom Reporting', 'Code\\nAPP Indicateur\\nVIRTUEL',\n",
       "       'Nom indicateur Virtuel', 'Unité de conversion de l'indicateur',\n",
       "       'Reel N-1', 'Valorisation Financière REEL N-1', 'Reel N',\n",
       "       'Valorisation Financière REEL N',\n",
       "       'Objectifs Stratégiques PLAFOND période N',\n",
       "       'Objectifs Stratégiques SEUIL période N',\n",
       "       'Valorisation Financière Objectifs Stratégiques N',\n",
       "       'Objectifs Opérationnels PLAFOND période N',\n",
       "       'Objectifs Opérationnels SEUIL période N',\n",
       "       'Valorisation Financière Objectifs Opérationnels N',\n",
       "       'VARIATION Réel N vs Réel N-1 (%)',\n",
       "       'VARIATION Objectifs Stratégiques PLAFOND N vs Réel N (%)',\n",
       "       'VARIATION Objectifs Stratégiques SEUIL N vs Réel N (%)',\n",
       "       'VARIATION Objectifs Opérationnels PLAFOND N vs Réel N (%)',\n",
       "       'VARIATION Objectifs Opérationnels SEUIL N vs Réel N (%)'],\n",
       "      dtype='object')"
      ]
     },
     "execution_count": 4,
     "metadata": {},
     "output_type": "execute_result"
    }
   ],
   "source": [
    "df3.columns"
   ]
  }
 ],
 "metadata": {
  "kernelspec": {
   "display_name": "dataviz_xtrafi",
   "language": "python",
   "name": "python3"
  },
  "language_info": {
   "codemirror_mode": {
    "name": "ipython",
    "version": 3
   },
   "file_extension": ".py",
   "mimetype": "text/x-python",
   "name": "python",
   "nbconvert_exporter": "python",
   "pygments_lexer": "ipython3",
   "version": "3.12.3"
  }
 },
 "nbformat": 4,
 "nbformat_minor": 5
}
